{
 "cells": [
  {
   "cell_type": "code",
   "execution_count": 41,
   "metadata": {},
   "outputs": [],
   "source": [
    "import pandas as pd\n",
    "from collections import defaultdict, Counter\n",
    "#from Authentication import *\n",
    "import requests\n",
    "import json \n",
    "import time\n",
    "import progressbar as pb\n",
    "import numpy as np"
   ]
  },
  {
   "cell_type": "markdown",
   "metadata": {
    "heading_collapsed": true
   },
   "source": [
    "## MedDRA"
   ]
  },
  {
   "cell_type": "code",
   "execution_count": 117,
   "metadata": {
    "hidden": true
   },
   "outputs": [
    {
     "name": "stdout",
     "output_type": "stream",
     "text": [
      "(80894, 2) (80894, 2) (23954, 2) (23954, 2)\n"
     ]
    }
   ],
   "source": [
    "meddra_file_path = \"/Users/Fyxstkala/Desktop/GitHub/term_mapping/MedDRA/new_meddra\"\n",
    "\n",
    "pt_df = pd.read_csv(meddra_file_path + \"/pt_df.csv\", header = None)\n",
    "pt_df.columns = [\"IDX\",\"PT\"]\n",
    "\n",
    "llt_df = pd.read_csv(meddra_file_path + \"/llt_df.csv\", header = None)\n",
    "llt_df.columns = [\"IDX\",\"LLT\"]\n",
    "\n",
    "ptsoc_df = pd.read_csv(meddra_file_path + \"/ptsoc_df.csv\", header = None)\n",
    "ptsoc_df.columns = [\"IDX\",\"PT\"]\n",
    "\n",
    "soc_df = pd.read_csv(meddra_file_path + \"/soc_df.csv\", header = None)\n",
    "soc_df.columns = [\"IDX\",\"SOC\"]\n",
    "\n",
    "print(pt_df.shape, llt_df.shape, ptsoc_df.shape, soc_df.shape)"
   ]
  },
  {
   "cell_type": "code",
   "execution_count": 24,
   "metadata": {
    "hidden": true
   },
   "outputs": [
    {
     "name": "stdout",
     "output_type": "stream",
     "text": [
      "(80894, 3)\n"
     ]
    },
    {
     "data": {
      "text/html": [
       "<div>\n",
       "<style scoped>\n",
       "    .dataframe tbody tr th:only-of-type {\n",
       "        vertical-align: middle;\n",
       "    }\n",
       "\n",
       "    .dataframe tbody tr th {\n",
       "        vertical-align: top;\n",
       "    }\n",
       "\n",
       "    .dataframe thead th {\n",
       "        text-align: right;\n",
       "    }\n",
       "</style>\n",
       "<table border=\"1\" class=\"dataframe\">\n",
       "  <thead>\n",
       "    <tr style=\"text-align: right;\">\n",
       "      <th></th>\n",
       "      <th>IDX</th>\n",
       "      <th>PT</th>\n",
       "      <th>LLT</th>\n",
       "    </tr>\n",
       "  </thead>\n",
       "  <tbody>\n",
       "    <tr>\n",
       "      <td>0</td>\n",
       "      <td>0</td>\n",
       "      <td>11-beta-hydroxylase deficiency</td>\n",
       "      <td>11-beta-hydroxylase deficiency</td>\n",
       "    </tr>\n",
       "    <tr>\n",
       "      <td>1</td>\n",
       "      <td>1</td>\n",
       "      <td>17 ketosteroids urine</td>\n",
       "      <td>17 ketosteroids urine</td>\n",
       "    </tr>\n",
       "    <tr>\n",
       "      <td>2</td>\n",
       "      <td>2</td>\n",
       "      <td>17 ketosteroids urine decreased</td>\n",
       "      <td>17 ketosteroids urine decreased</td>\n",
       "    </tr>\n",
       "    <tr>\n",
       "      <td>3</td>\n",
       "      <td>3</td>\n",
       "      <td>17 ketosteroids urine decreased</td>\n",
       "      <td>17 ketosteroids urine low</td>\n",
       "    </tr>\n",
       "    <tr>\n",
       "      <td>4</td>\n",
       "      <td>4</td>\n",
       "      <td>17 ketosteroids urine increased</td>\n",
       "      <td>17 ketosteroids urine high</td>\n",
       "    </tr>\n",
       "  </tbody>\n",
       "</table>\n",
       "</div>"
      ],
      "text/plain": [
       "   IDX                               PT                              LLT\n",
       "0    0   11-beta-hydroxylase deficiency   11-beta-hydroxylase deficiency\n",
       "1    1            17 ketosteroids urine            17 ketosteroids urine\n",
       "2    2  17 ketosteroids urine decreased  17 ketosteroids urine decreased\n",
       "3    3  17 ketosteroids urine decreased        17 ketosteroids urine low\n",
       "4    4  17 ketosteroids urine increased       17 ketosteroids urine high"
      ]
     },
     "execution_count": 24,
     "metadata": {},
     "output_type": "execute_result"
    }
   ],
   "source": [
    "# Get mapping from pt to llt\n",
    "pt_llt_df = pt_df.merge(llt_df, on = [\"IDX\"])\n",
    "print(pt_llt_df.shape)\n",
    "pt_llt_df['PT'] = pt_llt_df['PT'].str.lower()\n",
    "pt_llt_df['LLT'] = pt_llt_df['LLT'].str.lower()\n",
    "pt_llt_df.head()"
   ]
  },
  {
   "cell_type": "code",
   "execution_count": 25,
   "metadata": {
    "hidden": true
   },
   "outputs": [
    {
     "name": "stdout",
     "output_type": "stream",
     "text": [
      "(23954, 3)\n"
     ]
    },
    {
     "data": {
      "text/html": [
       "<div>\n",
       "<style scoped>\n",
       "    .dataframe tbody tr th:only-of-type {\n",
       "        vertical-align: middle;\n",
       "    }\n",
       "\n",
       "    .dataframe tbody tr th {\n",
       "        vertical-align: top;\n",
       "    }\n",
       "\n",
       "    .dataframe thead th {\n",
       "        text-align: right;\n",
       "    }\n",
       "</style>\n",
       "<table border=\"1\" class=\"dataframe\">\n",
       "  <thead>\n",
       "    <tr style=\"text-align: right;\">\n",
       "      <th></th>\n",
       "      <th>IDX</th>\n",
       "      <th>PT</th>\n",
       "      <th>SOC</th>\n",
       "    </tr>\n",
       "  </thead>\n",
       "  <tbody>\n",
       "    <tr>\n",
       "      <td>0</td>\n",
       "      <td>0</td>\n",
       "      <td>11-beta-hydroxylase deficiency</td>\n",
       "      <td>congenital, familial and genetic disorders</td>\n",
       "    </tr>\n",
       "    <tr>\n",
       "      <td>1</td>\n",
       "      <td>1</td>\n",
       "      <td>17,20-desmolase deficiency</td>\n",
       "      <td>congenital, familial and genetic disorders</td>\n",
       "    </tr>\n",
       "    <tr>\n",
       "      <td>2</td>\n",
       "      <td>2</td>\n",
       "      <td>17-alpha-hydroxylase deficiency</td>\n",
       "      <td>congenital, familial and genetic disorders</td>\n",
       "    </tr>\n",
       "    <tr>\n",
       "      <td>3</td>\n",
       "      <td>3</td>\n",
       "      <td>20,22-desmolase deficiency</td>\n",
       "      <td>congenital, familial and genetic disorders</td>\n",
       "    </tr>\n",
       "    <tr>\n",
       "      <td>4</td>\n",
       "      <td>4</td>\n",
       "      <td>21-hydroxylase deficiency</td>\n",
       "      <td>congenital, familial and genetic disorders</td>\n",
       "    </tr>\n",
       "  </tbody>\n",
       "</table>\n",
       "</div>"
      ],
      "text/plain": [
       "   IDX                               PT  \\\n",
       "0    0   11-beta-hydroxylase deficiency   \n",
       "1    1       17,20-desmolase deficiency   \n",
       "2    2  17-alpha-hydroxylase deficiency   \n",
       "3    3       20,22-desmolase deficiency   \n",
       "4    4        21-hydroxylase deficiency   \n",
       "\n",
       "                                          SOC  \n",
       "0  congenital, familial and genetic disorders  \n",
       "1  congenital, familial and genetic disorders  \n",
       "2  congenital, familial and genetic disorders  \n",
       "3  congenital, familial and genetic disorders  \n",
       "4  congenital, familial and genetic disorders  "
      ]
     },
     "execution_count": 25,
     "metadata": {},
     "output_type": "execute_result"
    }
   ],
   "source": [
    "pt_soc_df = ptsoc_df.merge(soc_df, on = [\"IDX\"])\n",
    "print(pt_soc_df.shape)\n",
    "pt_soc_df['PT'] = pt_soc_df['PT'].str.lower()\n",
    "pt_soc_df['SOC'] = pt_soc_df['SOC'].str.lower()\n",
    "pt_soc_df.head()"
   ]
  },
  {
   "cell_type": "markdown",
   "metadata": {
    "heading_collapsed": true
   },
   "source": [
    "## OHDSI"
   ]
  },
  {
   "cell_type": "code",
   "execution_count": 38,
   "metadata": {
    "hidden": true
   },
   "outputs": [],
   "source": [
    "ohdsi_path = \"/Users/Fyxstkala/Desktop/GitHub/term_mapping/ohdsi_2019\""
   ]
  },
  {
   "cell_type": "code",
   "execution_count": 44,
   "metadata": {
    "hidden": true
   },
   "outputs": [],
   "source": [
    "# retrieve data downlaoded from OHDSI vocabularies (concept file)\n",
    "def retrieve_ohdsi_vocab(filename, vocab, id_name):\n",
    "    with open(filename) as file:\n",
    "        concepts = np.asarray([line.strip().split('\\t') for line in file])\n",
    "    \n",
    "    # fill invalid_reason column if empty\n",
    "    for row in concepts:\n",
    "        if len(row) == 9 and len(row[8])==8:\n",
    "            row.append(\"NA\")\n",
    "\n",
    "    concepts = np.asarray(concepts)\n",
    "    ret = np.asarray([row for row in concepts if row[3] == vocab])\n",
    "    df = pd.DataFrame([[entry[0],entry[1],entry[3]] for entry in ret], \n",
    "        columns = [id_name, \"name\",'vocab'])\n",
    "\n",
    "    return df\n",
    "\n",
    "\n",
    "def retrieve_meddra(filename, id_name, level):\n",
    "    with open(filename) as file:\n",
    "        concepts = np.asarray([line.strip().split('\\t') for line in file])\n",
    "    \n",
    "    # fill invalid_reason column if empty\n",
    "    for row in concepts:\n",
    "        if len(row) == 9 and len(row[8])==8:\n",
    "            row.append(\"NA\")\n",
    "\n",
    "    concepts = np.asarray(concepts)\n",
    "    ret = np.asarray([row for row in concepts if row[3] == \"MedDRA\" and row[4] == level])\n",
    "    df = pd.DataFrame([[entry[0],entry[1],entry[3]] for entry in ret], \n",
    "        columns = [id_name, \"name\",'vocab'])\n",
    "\n",
    "    return df\n",
    "\n",
    "# get all maps-to relationships\n",
    "def get_concept_relationships(file, relation):\n",
    "    with open(file) as f:\n",
    "        next(f)\n",
    "        f = np.asarray([line.strip().split(\"\\t\") for line in f])\n",
    "        df = pd.DataFrame([entry[:3] for entry in f if (entry[2] == relation)], \n",
    "            columns = ['id1','id2',\"relation\"])\n",
    "        #df = pd.DataFrame([entry[:3] for entry in f], columns = ['id1','id2',\"relation\"])\n",
    "    return df\n",
    "\n",
    "def mapping_with_snomed(vocab, name, snomed, relation):\n",
    "    df_relation = get_concept_relationships(ohdsi_path + \"/CONCEPT_RELATIONSHIP.csv\", relation)\n",
    "    id_match = pd.merge(vocab, df_relation, how ='inner', on=['id1'])\n",
    "    df = pd.merge(id_match, snomed, how ='inner', on=[\"id2\"])\n",
    "    \n",
    "    df = df[[\"id1\",\"name_x\",\"id2\"]]\n",
    "    df = df.rename(index=str, columns={\"id1\": name+\"_id\", \"name_x\": name, \"id2\": \"snomed_id\"})\n",
    "    return df"
   ]
  },
  {
   "cell_type": "code",
   "execution_count": 42,
   "metadata": {
    "hidden": true
   },
   "outputs": [],
   "source": [
    "icd9 = retrieve_ohdsi_vocab(ohdsi_path + \"/CONCEPT.csv\", \"ICD9CM\", \"id1\")\n",
    "icd10 = retrieve_ohdsi_vocab(ohdsi_path + \"/CONCEPT.csv\", \"ICD10CM\", \"id1\")\n",
    "mdr_llt = retrieve_meddra(ohdsi_path + \"/CONCEPT.csv\",\"id1\",\"LLT\")\n",
    "mdr_pt = retrieve_meddra(ohdsi_path + \"/CONCEPT.csv\",\"id1\",\"PT\")\n",
    "snomed = retrieve_ohdsi_vocab(ohdsi_path + \"/CONCEPT.csv\", \"SNOMED\",\"id2\")"
   ]
  },
  {
   "cell_type": "code",
   "execution_count": 45,
   "metadata": {
    "hidden": true
   },
   "outputs": [
    {
     "name": "stdout",
     "output_type": "stream",
     "text": [
      "(12841, 3)\n",
      "(718, 3)\n",
      "(21100, 3)\n",
      "(127635, 3)\n"
     ]
    },
    {
     "data": {
      "text/html": [
       "<div>\n",
       "<style scoped>\n",
       "    .dataframe tbody tr th:only-of-type {\n",
       "        vertical-align: middle;\n",
       "    }\n",
       "\n",
       "    .dataframe tbody tr th {\n",
       "        vertical-align: top;\n",
       "    }\n",
       "\n",
       "    .dataframe thead th {\n",
       "        text-align: right;\n",
       "    }\n",
       "</style>\n",
       "<table border=\"1\" class=\"dataframe\">\n",
       "  <thead>\n",
       "    <tr style=\"text-align: right;\">\n",
       "      <th></th>\n",
       "      <th>MDR</th>\n",
       "      <th>ICD</th>\n",
       "    </tr>\n",
       "  </thead>\n",
       "  <tbody>\n",
       "    <tr>\n",
       "      <td>0</td>\n",
       "      <td>Liver function test</td>\n",
       "      <td>Nonspecific abnormal results of function study...</td>\n",
       "    </tr>\n",
       "    <tr>\n",
       "      <td>1</td>\n",
       "      <td>Basophilia</td>\n",
       "      <td>Basophilia</td>\n",
       "    </tr>\n",
       "    <tr>\n",
       "      <td>2</td>\n",
       "      <td>Humoral immune defect</td>\n",
       "      <td>Deficiency of humoral immunity</td>\n",
       "    </tr>\n",
       "    <tr>\n",
       "      <td>3</td>\n",
       "      <td>Humoral immune defect</td>\n",
       "      <td>Other deficiency of humoral immunity</td>\n",
       "    </tr>\n",
       "    <tr>\n",
       "      <td>4</td>\n",
       "      <td>Hypogammaglobulinaemia</td>\n",
       "      <td>Hypogammaglobulinemia, unspecified</td>\n",
       "    </tr>\n",
       "  </tbody>\n",
       "</table>\n",
       "</div>"
      ],
      "text/plain": [
       "                      MDR                                                ICD\n",
       "0     Liver function test  Nonspecific abnormal results of function study...\n",
       "1              Basophilia                                         Basophilia\n",
       "2   Humoral immune defect                     Deficiency of humoral immunity\n",
       "3   Humoral immune defect               Other deficiency of humoral immunity\n",
       "4  Hypogammaglobulinaemia                 Hypogammaglobulinemia, unspecified"
      ]
     },
     "execution_count": 45,
     "metadata": {},
     "output_type": "execute_result"
    }
   ],
   "source": [
    "mdr_pt_snomed = mapping_with_snomed(mdr_pt, \"mdr\", snomed, \"MedDRA - SNOMED eq\")\n",
    "mdr_llt_snomed = mapping_with_snomed(mdr_llt, \"mdr\", snomed, \"MedDRA - SNOMED eq\")\n",
    "icd9_snomed = mapping_with_snomed(icd9, \"icd\", snomed, \"Maps to\")\n",
    "icd10_snomed = mapping_with_snomed(icd10, \"icd\", snomed, \"Maps to\")\n",
    "\n",
    "mdr_icd9_pt = pd.merge(mdr_pt_snomed, icd9_snomed, how=\"inner\", on=[\"snomed_id\"])\n",
    "mdr_icd9_llt = pd.merge(mdr_llt_snomed, icd9_snomed, how=\"inner\", on=[\"snomed_id\"])\n",
    "mdr_icd10_pt = pd.merge(mdr_pt_snomed, icd10_snomed, how=\"inner\", on=[\"snomed_id\"])\n",
    "mdr_icd10_llt = pd.merge(mdr_llt_snomed, icd10_snomed, how=\"inner\", on=[\"snomed_id\"])\n",
    "\n",
    "merged = pd.concat([mdr_icd9_pt[[\"mdr\",\"icd\"]],mdr_icd9_llt[[\"mdr\",\"icd\"]],\n",
    "                        mdr_icd10_pt[[\"mdr\",\"icd\"]],mdr_icd10_llt[[\"mdr\",\"icd\"]]])\n",
    "merged = merged.drop_duplicates(keep = \"first\")\n",
    "merged.columns = [\"MDR\",\"ICD\"]\n",
    "merged.head()"
   ]
  },
  {
   "cell_type": "code",
   "execution_count": 82,
   "metadata": {
    "hidden": true
   },
   "outputs": [
    {
     "name": "stdout",
     "output_type": "stream",
     "text": [
      "OHDSI MDR ICD9 PT:  3354\n",
      "OHDSI MDR ICD10 PT:  3551\n",
      "OHDSI MDR ICD9 LLT:  180\n",
      "OHDSI MDR ICD10 LLT:  191\n",
      "OHDSI MDR PT:  4112\n",
      "OHDSI MDR LLT:  220\n"
     ]
    }
   ],
   "source": [
    "print(\"OHDSI MDR ICD9 PT: \", len(set(mdr_icd9_pt[\"mdr\"].drop_duplicates().tolist())))\n",
    "print(\"OHDSI MDR ICD10 PT: \", len(set(mdr_icd10_pt[\"mdr\"].drop_duplicates().tolist())))\n",
    "print(\"OHDSI MDR ICD9 LLT: \", len(set(mdr_icd9_llt[\"mdr\"].drop_duplicates().tolist())))\n",
    "print(\"OHDSI MDR ICD10 LLT: \", len(set(mdr_icd10_llt[\"mdr\"].drop_duplicates().tolist())))\n",
    "ohdsi_mdr_pt = pd.concat([mdr_icd9_pt,mdr_icd10_pt]).drop_duplicates()\n",
    "ohdsi_mdr_llt = pd.concat([mdr_icd9_llt,mdr_icd10_llt]).drop_duplicates()\n",
    "print(\"OHDSI MDR PT: \", len(set(ohdsi_mdr_pt[\"mdr\"].drop_duplicates().tolist())))\n",
    "print(\"OHDSI MDR LLT: \", len(set(ohdsi_mdr_llt[\"mdr\"].drop_duplicates().tolist())))"
   ]
  },
  {
   "cell_type": "code",
   "execution_count": 46,
   "metadata": {
    "hidden": true
   },
   "outputs": [
    {
     "name": "stdout",
     "output_type": "stream",
     "text": [
      "(45173, 2)\n"
     ]
    },
    {
     "data": {
      "text/html": [
       "<div>\n",
       "<style scoped>\n",
       "    .dataframe tbody tr th:only-of-type {\n",
       "        vertical-align: middle;\n",
       "    }\n",
       "\n",
       "    .dataframe tbody tr th {\n",
       "        vertical-align: top;\n",
       "    }\n",
       "\n",
       "    .dataframe thead th {\n",
       "        text-align: right;\n",
       "    }\n",
       "</style>\n",
       "<table border=\"1\" class=\"dataframe\">\n",
       "  <thead>\n",
       "    <tr style=\"text-align: right;\">\n",
       "      <th></th>\n",
       "      <th>MDR</th>\n",
       "      <th>ICD</th>\n",
       "    </tr>\n",
       "  </thead>\n",
       "  <tbody>\n",
       "    <tr>\n",
       "      <td>0</td>\n",
       "      <td>liver function test</td>\n",
       "      <td>nonspecific abnormal results of function study...</td>\n",
       "    </tr>\n",
       "    <tr>\n",
       "      <td>1</td>\n",
       "      <td>basophilia</td>\n",
       "      <td>basophilia</td>\n",
       "    </tr>\n",
       "    <tr>\n",
       "      <td>2</td>\n",
       "      <td>humoral immune defect</td>\n",
       "      <td>deficiency of humoral immunity</td>\n",
       "    </tr>\n",
       "    <tr>\n",
       "      <td>3</td>\n",
       "      <td>humoral immune defect</td>\n",
       "      <td>other deficiency of humoral immunity</td>\n",
       "    </tr>\n",
       "    <tr>\n",
       "      <td>4</td>\n",
       "      <td>hypogammaglobulinaemia</td>\n",
       "      <td>hypogammaglobulinemia, unspecified</td>\n",
       "    </tr>\n",
       "  </tbody>\n",
       "</table>\n",
       "</div>"
      ],
      "text/plain": [
       "                      MDR                                                ICD\n",
       "0     liver function test  nonspecific abnormal results of function study...\n",
       "1              basophilia                                         basophilia\n",
       "2   humoral immune defect                     deficiency of humoral immunity\n",
       "3   humoral immune defect               other deficiency of humoral immunity\n",
       "4  hypogammaglobulinaemia                 hypogammaglobulinemia, unspecified"
      ]
     },
     "execution_count": 46,
     "metadata": {},
     "output_type": "execute_result"
    }
   ],
   "source": [
    "merged[\"MDR\"] = merged[\"MDR\"].str.lower()\n",
    "merged[\"ICD\"] = merged[\"ICD\"].str.lower()\n",
    "ohdsi_mapping = merged\n",
    "print(ohdsi_mapping.shape)\n",
    "ohdsi_mapping.head()"
   ]
  },
  {
   "cell_type": "markdown",
   "metadata": {},
   "source": [
    "## UMLS"
   ]
  },
  {
   "cell_type": "markdown",
   "metadata": {},
   "source": [
    "2009-2016: /MRCONSO.RRF.aa <br/>\n",
    "2017-2019: /MRCONSO.RRF <br/>"
   ]
  },
  {
   "cell_type": "code",
   "execution_count": 83,
   "metadata": {},
   "outputs": [],
   "source": [
    "year = \"2019\"\n",
    "umlsPath = \"/Users/Fyxstkala/Desktop/GitHub/term_mapping/umls/\" + year + \"AB\"\n",
    "mrconso = umlsPath + \"/MRCONSO.RRF\""
   ]
  },
  {
   "cell_type": "markdown",
   "metadata": {},
   "source": [
    "### Helper functions"
   ]
  },
  {
   "cell_type": "code",
   "execution_count": 84,
   "metadata": {},
   "outputs": [
    {
     "name": "stdout",
     "output_type": "stream",
     "text": [
      "(10802342, 5)\n"
     ]
    },
    {
     "data": {
      "text/html": [
       "<div>\n",
       "<style scoped>\n",
       "    .dataframe tbody tr th:only-of-type {\n",
       "        vertical-align: middle;\n",
       "    }\n",
       "\n",
       "    .dataframe tbody tr th {\n",
       "        vertical-align: top;\n",
       "    }\n",
       "\n",
       "    .dataframe thead th {\n",
       "        text-align: right;\n",
       "    }\n",
       "</style>\n",
       "<table border=\"1\" class=\"dataframe\">\n",
       "  <thead>\n",
       "    <tr style=\"text-align: right;\">\n",
       "      <th></th>\n",
       "      <th>CUI</th>\n",
       "      <th>LAT</th>\n",
       "      <th>SAB</th>\n",
       "      <th>TTY</th>\n",
       "      <th>STR</th>\n",
       "    </tr>\n",
       "  </thead>\n",
       "  <tbody>\n",
       "    <tr>\n",
       "      <td>0</td>\n",
       "      <td>C0000005</td>\n",
       "      <td>ENG</td>\n",
       "      <td>MSH</td>\n",
       "      <td>ET</td>\n",
       "      <td>(131)i-maa</td>\n",
       "    </tr>\n",
       "    <tr>\n",
       "      <td>5</td>\n",
       "      <td>C0000039</td>\n",
       "      <td>ENG</td>\n",
       "      <td>RXNORM</td>\n",
       "      <td>IN</td>\n",
       "      <td>1,2-dipalmitoylphosphatidylcholine</td>\n",
       "    </tr>\n",
       "    <tr>\n",
       "      <td>6</td>\n",
       "      <td>C0000039</td>\n",
       "      <td>ENG</td>\n",
       "      <td>MTH</td>\n",
       "      <td>PN</td>\n",
       "      <td>1,2-dipalmitoylphosphatidylcholine</td>\n",
       "    </tr>\n",
       "    <tr>\n",
       "      <td>7</td>\n",
       "      <td>C0000039</td>\n",
       "      <td>ENG</td>\n",
       "      <td>MSH</td>\n",
       "      <td>MH</td>\n",
       "      <td>1,2-dipalmitoylphosphatidylcholine</td>\n",
       "    </tr>\n",
       "    <tr>\n",
       "      <td>8</td>\n",
       "      <td>C0000039</td>\n",
       "      <td>ENG</td>\n",
       "      <td>MSH</td>\n",
       "      <td>PM</td>\n",
       "      <td>1,2 dipalmitoylphosphatidylcholine</td>\n",
       "    </tr>\n",
       "  </tbody>\n",
       "</table>\n",
       "</div>"
      ],
      "text/plain": [
       "        CUI  LAT     SAB TTY                                 STR\n",
       "0  C0000005  ENG     MSH  ET                          (131)i-maa\n",
       "5  C0000039  ENG  RXNORM  IN  1,2-dipalmitoylphosphatidylcholine\n",
       "6  C0000039  ENG     MTH  PN  1,2-dipalmitoylphosphatidylcholine\n",
       "7  C0000039  ENG     MSH  MH  1,2-dipalmitoylphosphatidylcholine\n",
       "8  C0000039  ENG     MSH  PM  1,2 dipalmitoylphosphatidylcholine"
      ]
     },
     "execution_count": 84,
     "metadata": {},
     "output_type": "execute_result"
    }
   ],
   "source": [
    "#df = pd.read_csv(mrconso, sep=\"|\")\n",
    "\n",
    "# read MRCONSO.RRF file, get terms in English\n",
    "def read_mrconso(file):\n",
    "    term_df = pd.read_csv(file, sep=\"|\", usecols=[0,1,11,12,14])\n",
    "    term_df.columns = [\"CUI\",\"LAT\",\"SAB\",\"TTY\",\"STR\"]\n",
    "    term_df = term_df.loc[term_df[\"LAT\"] == \"ENG\"]\n",
    "    term_df['STR'] = term_df['STR'].str.lower()\n",
    "    print(term_df.shape)\n",
    "    return term_df\n",
    "\n",
    "df = read_mrconso(mrconso)\n",
    "df.head()"
   ]
  },
  {
   "cell_type": "code",
   "execution_count": 90,
   "metadata": {},
   "outputs": [
    {
     "name": "stdout",
     "output_type": "stream",
     "text": [
      "MDR PT 23708\n",
      "MDR LLT 70977\n"
     ]
    },
    {
     "data": {
      "text/html": [
       "<div>\n",
       "<style scoped>\n",
       "    .dataframe tbody tr th:only-of-type {\n",
       "        vertical-align: middle;\n",
       "    }\n",
       "\n",
       "    .dataframe tbody tr th {\n",
       "        vertical-align: top;\n",
       "    }\n",
       "\n",
       "    .dataframe thead th {\n",
       "        text-align: right;\n",
       "    }\n",
       "</style>\n",
       "<table border=\"1\" class=\"dataframe\">\n",
       "  <thead>\n",
       "    <tr style=\"text-align: right;\">\n",
       "      <th></th>\n",
       "      <th>CUI</th>\n",
       "      <th>LAT</th>\n",
       "      <th>SAB</th>\n",
       "      <th>TTY</th>\n",
       "      <th>STR</th>\n",
       "    </tr>\n",
       "  </thead>\n",
       "  <tbody>\n",
       "    <tr>\n",
       "      <td>5112</td>\n",
       "      <td>C0000727</td>\n",
       "      <td>ENG</td>\n",
       "      <td>MDR</td>\n",
       "      <td>LLT</td>\n",
       "      <td>acute abdomen</td>\n",
       "    </tr>\n",
       "    <tr>\n",
       "      <td>5126</td>\n",
       "      <td>C0000727</td>\n",
       "      <td>ENG</td>\n",
       "      <td>MDR</td>\n",
       "      <td>LLT</td>\n",
       "      <td>syndrome abdominal acute</td>\n",
       "    </tr>\n",
       "    <tr>\n",
       "      <td>5129</td>\n",
       "      <td>C0000727</td>\n",
       "      <td>ENG</td>\n",
       "      <td>MDR</td>\n",
       "      <td>LLT</td>\n",
       "      <td>abdominal syndrome acute</td>\n",
       "    </tr>\n",
       "    <tr>\n",
       "      <td>5249</td>\n",
       "      <td>C0000729</td>\n",
       "      <td>ENG</td>\n",
       "      <td>MDR</td>\n",
       "      <td>LLT</td>\n",
       "      <td>abdominal cramps</td>\n",
       "    </tr>\n",
       "    <tr>\n",
       "      <td>5267</td>\n",
       "      <td>C0000729</td>\n",
       "      <td>ENG</td>\n",
       "      <td>MDR</td>\n",
       "      <td>LLT</td>\n",
       "      <td>abdominal cramp</td>\n",
       "    </tr>\n",
       "  </tbody>\n",
       "</table>\n",
       "</div>"
      ],
      "text/plain": [
       "           CUI  LAT  SAB  TTY                       STR\n",
       "5112  C0000727  ENG  MDR  LLT             acute abdomen\n",
       "5126  C0000727  ENG  MDR  LLT  syndrome abdominal acute\n",
       "5129  C0000727  ENG  MDR  LLT  abdominal syndrome acute\n",
       "5249  C0000729  ENG  MDR  LLT          abdominal cramps\n",
       "5267  C0000729  ENG  MDR  LLT           abdominal cramp"
      ]
     },
     "execution_count": 90,
     "metadata": {},
     "output_type": "execute_result"
    }
   ],
   "source": [
    "icd9cm = df.loc[df[\"SAB\"] == 'ICD9CM'].drop_duplicates()\n",
    "icd10cm = df.loc[df[\"SAB\"] == 'ICD10CM'].drop_duplicates()\n",
    "mdr_pt =  df.loc[(df[\"SAB\"] == 'MDR') & (df[\"TTY\"] == \"PT\")].drop_duplicates()\n",
    "mdr_llt =  df.loc[(df[\"SAB\"] == 'MDR') & (df[\"TTY\"] == \"LLT\")].drop_duplicates()\n",
    "print(\"MDR PT\", len(set(mdr_pt[\"STR\"].tolist())))\n",
    "print(\"MDR LLT\", len(set(mdr_llt[\"STR\"].tolist())))\n",
    "mdr_llt.head()"
   ]
  },
  {
   "cell_type": "code",
   "execution_count": 120,
   "metadata": {},
   "outputs": [],
   "source": [
    "def cui_mapping(mdr, icd):\n",
    "    matches = pd.merge(mdr, icd, how='inner', on=[\"CUI\"], suffixes=('_mdr', '_icd')).drop_duplicates()\n",
    "    matches = matches.rename(columns={'STR_mdr': 'MDR', 'STR_icd': 'ICD'})\n",
    "    return matches[[\"CUI\",\"MDR\",\"ICD\"]]\n",
    "\n",
    "# mapping percentage is calculated by how many MedDRA terms are in UMLS of that year\n",
    "def get_count_info(matches, mdr):\n",
    "    print(matches.shape)\n",
    "    len_match_cui = len(set(matches[\"CUI\"].tolist()))\n",
    "    len_match_icd = len(set(matches[\"ICD\"].tolist()))\n",
    "    len_match_mdr = len(set(matches[\"MDR\"].tolist()))\n",
    "    len_mdr = len(set(mdr[\"PT\"].tolist()))\n",
    "    \n",
    "    print(\"Mapped CUI: \", len_match_cui)\n",
    "    print(\"Mapped ICD: \", len_match_icd)\n",
    "    print(\"Mapped MDR: \", len_match_mdr)\n",
    "    print(\"Terms in MDR: \", len_mdr)\n",
    "    print(\"MDR Matched Percentage: \", float(len_match_mdr)/len_mdr)"
   ]
  },
  {
   "cell_type": "code",
   "execution_count": 96,
   "metadata": {},
   "outputs": [
    {
     "name": "stdout",
     "output_type": "stream",
     "text": [
      "---  ICD9CM Mapping---\n",
      "(5734, 3)\n",
      "Mapped CUI:  2663\n",
      "Mapped ICD:  4459\n",
      "Mapped MDR:  2780\n",
      "Terms in MDR:  23708\n",
      "MDR Matched Percentage:  0.11725999662561161\n",
      "\n",
      "---ICD10CM Mapping---\n",
      "(8779, 3)\n",
      "Mapped CUI:  3630\n",
      "Mapped ICD:  5323\n",
      "Mapped MDR:  3785\n",
      "Terms in MDR:  23708\n",
      "MDR Matched Percentage:  0.15965075080141725\n",
      "\n",
      "---Combined Mapping---\n",
      "(8805, 3)\n",
      "Mapped CUI:  4394\n",
      "Mapped ICD:  8382\n",
      "Mapped MDR:  4569\n",
      "Terms in MDR:  23708\n",
      "MDR Matched Percentage:  0.19271975704403577\n"
     ]
    },
    {
     "data": {
      "text/html": [
       "<div>\n",
       "<style scoped>\n",
       "    .dataframe tbody tr th:only-of-type {\n",
       "        vertical-align: middle;\n",
       "    }\n",
       "\n",
       "    .dataframe tbody tr th {\n",
       "        vertical-align: top;\n",
       "    }\n",
       "\n",
       "    .dataframe thead th {\n",
       "        text-align: right;\n",
       "    }\n",
       "</style>\n",
       "<table border=\"1\" class=\"dataframe\">\n",
       "  <thead>\n",
       "    <tr style=\"text-align: right;\">\n",
       "      <th></th>\n",
       "      <th>CUI</th>\n",
       "      <th>MDR</th>\n",
       "      <th>ICD</th>\n",
       "    </tr>\n",
       "  </thead>\n",
       "  <tbody>\n",
       "    <tr>\n",
       "      <td>0</td>\n",
       "      <td>C0000737</td>\n",
       "      <td>abdominal pain</td>\n",
       "      <td>abdominal pain</td>\n",
       "    </tr>\n",
       "    <tr>\n",
       "      <td>1</td>\n",
       "      <td>C0000737</td>\n",
       "      <td>abdominal pain</td>\n",
       "      <td>abdominal pain, unspecified site</td>\n",
       "    </tr>\n",
       "    <tr>\n",
       "      <td>2</td>\n",
       "      <td>C0000737</td>\n",
       "      <td>abdominal pain</td>\n",
       "      <td>abdmnal pain unspcf site</td>\n",
       "    </tr>\n",
       "    <tr>\n",
       "      <td>3</td>\n",
       "      <td>C0000768</td>\n",
       "      <td>congenital anomaly</td>\n",
       "      <td>congenital anomalies</td>\n",
       "    </tr>\n",
       "    <tr>\n",
       "      <td>4</td>\n",
       "      <td>C0000768</td>\n",
       "      <td>congenital anomaly</td>\n",
       "      <td>congenital anomaly nos</td>\n",
       "    </tr>\n",
       "  </tbody>\n",
       "</table>\n",
       "</div>"
      ],
      "text/plain": [
       "        CUI                 MDR                               ICD\n",
       "0  C0000737      abdominal pain                    abdominal pain\n",
       "1  C0000737      abdominal pain  abdominal pain, unspecified site\n",
       "2  C0000737      abdominal pain          abdmnal pain unspcf site\n",
       "3  C0000768  congenital anomaly              congenital anomalies\n",
       "4  C0000768  congenital anomaly            congenital anomaly nos"
      ]
     },
     "execution_count": 96,
     "metadata": {},
     "output_type": "execute_result"
    }
   ],
   "source": [
    "map_icd9 = cui_mapping(mdr_pt, icd9cm)\n",
    "map_icd10 = cui_mapping(mdr_pt, icd10cm)\n",
    "combined_pt = pd.concat([map_icd9, map_icd10]).drop_duplicates()\n",
    "print(\"---  ICD9CM Mapping---\")\n",
    "get_count_info(map_icd9, mdr_pt)\n",
    "print(\"\\n---ICD10CM Mapping---\")\n",
    "get_count_info(map_icd10, mdr_pt)\n",
    "print(\"\\n---Combined Mapping---\")\n",
    "get_count_info(combined_pt, mdr_pt)\n",
    "combined_pt.head()"
   ]
  },
  {
   "cell_type": "code",
   "execution_count": 97,
   "metadata": {},
   "outputs": [
    {
     "name": "stdout",
     "output_type": "stream",
     "text": [
      "---  ICD9CM Mapping---\n",
      "(27916, 3)\n",
      "Mapped CUI:  6792\n",
      "Mapped ICD:  12064\n",
      "Mapped MDR:  13417\n",
      "Terms in MDR:  70977\n",
      "MDR Matched Percentage:  0.1890330670498894\n",
      "\n",
      "---ICD10CM Mapping---\n",
      "(33995, 3)\n",
      "Mapped CUI:  6141\n",
      "Mapped ICD:  8669\n",
      "Mapped MDR:  13745\n",
      "Terms in MDR:  70977\n",
      "MDR Matched Percentage:  0.19365428237316315\n",
      "\n",
      "---Combined Mapping---\n",
      "(40249, 3)\n",
      "Mapped CUI:  9394\n",
      "Mapped ICD:  18280\n",
      "Mapped MDR:  18539\n",
      "Terms in MDR:  70977\n",
      "MDR Matched Percentage:  0.2611972892627189\n"
     ]
    },
    {
     "data": {
      "text/html": [
       "<div>\n",
       "<style scoped>\n",
       "    .dataframe tbody tr th:only-of-type {\n",
       "        vertical-align: middle;\n",
       "    }\n",
       "\n",
       "    .dataframe tbody tr th {\n",
       "        vertical-align: top;\n",
       "    }\n",
       "\n",
       "    .dataframe thead th {\n",
       "        text-align: right;\n",
       "    }\n",
       "</style>\n",
       "<table border=\"1\" class=\"dataframe\">\n",
       "  <thead>\n",
       "    <tr style=\"text-align: right;\">\n",
       "      <th></th>\n",
       "      <th>CUI</th>\n",
       "      <th>MDR</th>\n",
       "      <th>ICD</th>\n",
       "    </tr>\n",
       "  </thead>\n",
       "  <tbody>\n",
       "    <tr>\n",
       "      <td>0</td>\n",
       "      <td>C0000737</td>\n",
       "      <td>pain abdominal</td>\n",
       "      <td>abdominal pain</td>\n",
       "    </tr>\n",
       "    <tr>\n",
       "      <td>1</td>\n",
       "      <td>C0000737</td>\n",
       "      <td>pain abdominal</td>\n",
       "      <td>abdominal pain, unspecified site</td>\n",
       "    </tr>\n",
       "    <tr>\n",
       "      <td>2</td>\n",
       "      <td>C0000737</td>\n",
       "      <td>pain abdominal</td>\n",
       "      <td>abdmnal pain unspcf site</td>\n",
       "    </tr>\n",
       "    <tr>\n",
       "      <td>3</td>\n",
       "      <td>C0000737</td>\n",
       "      <td>abdominal pain</td>\n",
       "      <td>abdominal pain</td>\n",
       "    </tr>\n",
       "    <tr>\n",
       "      <td>4</td>\n",
       "      <td>C0000737</td>\n",
       "      <td>abdominal pain</td>\n",
       "      <td>abdominal pain, unspecified site</td>\n",
       "    </tr>\n",
       "  </tbody>\n",
       "</table>\n",
       "</div>"
      ],
      "text/plain": [
       "        CUI             MDR                               ICD\n",
       "0  C0000737  pain abdominal                    abdominal pain\n",
       "1  C0000737  pain abdominal  abdominal pain, unspecified site\n",
       "2  C0000737  pain abdominal          abdmnal pain unspcf site\n",
       "3  C0000737  abdominal pain                    abdominal pain\n",
       "4  C0000737  abdominal pain  abdominal pain, unspecified site"
      ]
     },
     "execution_count": 97,
     "metadata": {},
     "output_type": "execute_result"
    }
   ],
   "source": [
    "map_icd9 = cui_mapping(mdr_llt, icd9cm)\n",
    "map_icd10 = cui_mapping(mdr_llt, icd10cm)\n",
    "combined_llt = pd.concat([map_icd9, map_icd10]).drop_duplicates()\n",
    "print(\"---  ICD9CM Mapping---\")\n",
    "get_count_info(map_icd9, mdr_llt)\n",
    "print(\"\\n---ICD10CM Mapping---\")\n",
    "get_count_info(map_icd10, mdr_llt)\n",
    "print(\"\\n---Combined Mapping---\")\n",
    "get_count_info(combined_llt, mdr_llt)\n",
    "combined_llt.head()"
   ]
  },
  {
   "cell_type": "code",
   "execution_count": 99,
   "metadata": {},
   "outputs": [
    {
     "name": "stdout",
     "output_type": "stream",
     "text": [
      "(40249, 3)\n"
     ]
    }
   ],
   "source": [
    "umls_mapping = pd.concat([combined_pt, combined_llt]).drop_duplicates()\n",
    "print(umls_mapping.shape)"
   ]
  },
  {
   "cell_type": "markdown",
   "metadata": {},
   "source": [
    "### UMLS Mapping"
   ]
  },
  {
   "cell_type": "code",
   "execution_count": 138,
   "metadata": {},
   "outputs": [],
   "source": [
    "def get_umls_mapping(mrconso, mdr_pt_df):\n",
    "    df = read_mrconso(mrconso)\n",
    "    \n",
    "    # get ICD data\n",
    "    icd9cm = df.loc[df[\"SAB\"] == 'ICD9CM'].drop_duplicates()\n",
    "    icd10cm = df.loc[df[\"SAB\"] == 'ICD10CM'].drop_duplicates()\n",
    "    \n",
    "    # get MedDRA data\n",
    "    mdr_pt =  df.loc[(df[\"SAB\"] == 'MDR') & (df[\"TTY\"] == \"PT\")].drop_duplicates()\n",
    "    mdr_llt =  df.loc[(df[\"SAB\"] == 'MDR') & (df[\"TTY\"] == \"LLT\")].drop_duplicates()\n",
    "    mdr_pt_num = len(set(mdr_pt[\"STR\"].drop_duplicates().tolist()))\n",
    "    \n",
    "    # MDR and ICD mapping\n",
    "    map_icd9_pt = cui_mapping(mdr_pt, icd9cm)\n",
    "    map_icd10_pt = cui_mapping(mdr_pt, icd10cm)\n",
    "    map_icd9_llt = cui_mapping(mdr_llt, icd9cm)\n",
    "    map_icd10_llt = cui_mapping(mdr_llt, icd10cm)\n",
    "    \n",
    "    combined = pd.concat([map_icd9_pt, map_icd10_pt, map_icd9_llt, map_icd10_llt]).drop_duplicates()\n",
    "    \n",
    "#     print(\"---  ICD9CM Mapping---\")\n",
    "#     get_count_info(map_icd9, mdr_pt)\n",
    "#     print(\"\\n---ICD10CM Mapping---\")\n",
    "#     get_count_info(map_icd10, mdr_pt)\n",
    "#     print(\"\\n---Combined Mapping---\")\n",
    "#     get_count_info(combined, mdr_pt_df)\n",
    "    \n",
    "    return combined, mdr_pt_num"
   ]
  },
  {
   "cell_type": "code",
   "execution_count": 78,
   "metadata": {},
   "outputs": [
    {
     "name": "stdout",
     "output_type": "stream",
     "text": [
      "(10802342, 5)\n",
      "---  ICD9CM Mapping---\n",
      "(5734, 3)\n",
      "Mapped ICD:  4459\n",
      "Mapped MDR:  2780\n",
      "Terms in MDR:  23708\n",
      "MDR Matched Percentage:  0.11725999662561161\n",
      "\n",
      "---ICD10CM Mapping---\n",
      "(8779, 3)\n",
      "Mapped ICD:  5323\n",
      "Mapped MDR:  3785\n",
      "Terms in MDR:  23708\n",
      "MDR Matched Percentage:  0.15965075080141725\n",
      "\n",
      "---Combined Mapping---\n",
      "(8805, 3)\n",
      "Mapped ICD:  8382\n",
      "Mapped MDR:  4569\n",
      "Terms in MDR:  23708\n",
      "MDR Matched Percentage:  0.19271975704403577\n"
     ]
    }
   ],
   "source": [
    "umls_mapping = get_umls_mapping(mrconso)"
   ]
  },
  {
   "cell_type": "markdown",
   "metadata": {
    "heading_collapsed": true
   },
   "source": [
    "## Combined Mapping"
   ]
  },
  {
   "cell_type": "code",
   "execution_count": 100,
   "metadata": {
    "hidden": true
   },
   "outputs": [
    {
     "name": "stdout",
     "output_type": "stream",
     "text": [
      "(40249, 2)\n"
     ]
    },
    {
     "data": {
      "text/html": [
       "<div>\n",
       "<style scoped>\n",
       "    .dataframe tbody tr th:only-of-type {\n",
       "        vertical-align: middle;\n",
       "    }\n",
       "\n",
       "    .dataframe tbody tr th {\n",
       "        vertical-align: top;\n",
       "    }\n",
       "\n",
       "    .dataframe thead th {\n",
       "        text-align: right;\n",
       "    }\n",
       "</style>\n",
       "<table border=\"1\" class=\"dataframe\">\n",
       "  <thead>\n",
       "    <tr style=\"text-align: right;\">\n",
       "      <th></th>\n",
       "      <th>MDR</th>\n",
       "      <th>ICD</th>\n",
       "    </tr>\n",
       "  </thead>\n",
       "  <tbody>\n",
       "    <tr>\n",
       "      <td>0</td>\n",
       "      <td>abdominal pain</td>\n",
       "      <td>abdominal pain</td>\n",
       "    </tr>\n",
       "    <tr>\n",
       "      <td>1</td>\n",
       "      <td>abdominal pain</td>\n",
       "      <td>abdominal pain, unspecified site</td>\n",
       "    </tr>\n",
       "    <tr>\n",
       "      <td>2</td>\n",
       "      <td>abdominal pain</td>\n",
       "      <td>abdmnal pain unspcf site</td>\n",
       "    </tr>\n",
       "    <tr>\n",
       "      <td>3</td>\n",
       "      <td>congenital anomaly</td>\n",
       "      <td>congenital anomalies</td>\n",
       "    </tr>\n",
       "    <tr>\n",
       "      <td>4</td>\n",
       "      <td>congenital anomaly</td>\n",
       "      <td>congenital anomaly nos</td>\n",
       "    </tr>\n",
       "  </tbody>\n",
       "</table>\n",
       "</div>"
      ],
      "text/plain": [
       "                  MDR                               ICD\n",
       "0      abdominal pain                    abdominal pain\n",
       "1      abdominal pain  abdominal pain, unspecified site\n",
       "2      abdominal pain          abdmnal pain unspcf site\n",
       "3  congenital anomaly              congenital anomalies\n",
       "4  congenital anomaly            congenital anomaly nos"
      ]
     },
     "execution_count": 100,
     "metadata": {},
     "output_type": "execute_result"
    }
   ],
   "source": [
    "umls_mapping = umls_mapping[[\"MDR\",\"ICD\"]]\n",
    "print(umls_mapping.shape)\n",
    "umls_mapping.head()"
   ]
  },
  {
   "cell_type": "code",
   "execution_count": 101,
   "metadata": {
    "hidden": true
   },
   "outputs": [
    {
     "name": "stdout",
     "output_type": "stream",
     "text": [
      "(45173, 2)\n"
     ]
    },
    {
     "data": {
      "text/html": [
       "<div>\n",
       "<style scoped>\n",
       "    .dataframe tbody tr th:only-of-type {\n",
       "        vertical-align: middle;\n",
       "    }\n",
       "\n",
       "    .dataframe tbody tr th {\n",
       "        vertical-align: top;\n",
       "    }\n",
       "\n",
       "    .dataframe thead th {\n",
       "        text-align: right;\n",
       "    }\n",
       "</style>\n",
       "<table border=\"1\" class=\"dataframe\">\n",
       "  <thead>\n",
       "    <tr style=\"text-align: right;\">\n",
       "      <th></th>\n",
       "      <th>MDR</th>\n",
       "      <th>ICD</th>\n",
       "    </tr>\n",
       "  </thead>\n",
       "  <tbody>\n",
       "    <tr>\n",
       "      <td>0</td>\n",
       "      <td>liver function test</td>\n",
       "      <td>nonspecific abnormal results of function study...</td>\n",
       "    </tr>\n",
       "    <tr>\n",
       "      <td>1</td>\n",
       "      <td>basophilia</td>\n",
       "      <td>basophilia</td>\n",
       "    </tr>\n",
       "    <tr>\n",
       "      <td>2</td>\n",
       "      <td>humoral immune defect</td>\n",
       "      <td>deficiency of humoral immunity</td>\n",
       "    </tr>\n",
       "    <tr>\n",
       "      <td>3</td>\n",
       "      <td>humoral immune defect</td>\n",
       "      <td>other deficiency of humoral immunity</td>\n",
       "    </tr>\n",
       "    <tr>\n",
       "      <td>4</td>\n",
       "      <td>hypogammaglobulinaemia</td>\n",
       "      <td>hypogammaglobulinemia, unspecified</td>\n",
       "    </tr>\n",
       "  </tbody>\n",
       "</table>\n",
       "</div>"
      ],
      "text/plain": [
       "                      MDR                                                ICD\n",
       "0     liver function test  nonspecific abnormal results of function study...\n",
       "1              basophilia                                         basophilia\n",
       "2   humoral immune defect                     deficiency of humoral immunity\n",
       "3   humoral immune defect               other deficiency of humoral immunity\n",
       "4  hypogammaglobulinaemia                 hypogammaglobulinemia, unspecified"
      ]
     },
     "execution_count": 101,
     "metadata": {},
     "output_type": "execute_result"
    }
   ],
   "source": [
    "print(ohdsi_mapping.shape)\n",
    "ohdsi_mapping.head()"
   ]
  },
  {
   "cell_type": "code",
   "execution_count": 102,
   "metadata": {
    "hidden": true
   },
   "outputs": [
    {
     "name": "stdout",
     "output_type": "stream",
     "text": [
      "(80894, 3)\n"
     ]
    },
    {
     "data": {
      "text/html": [
       "<div>\n",
       "<style scoped>\n",
       "    .dataframe tbody tr th:only-of-type {\n",
       "        vertical-align: middle;\n",
       "    }\n",
       "\n",
       "    .dataframe tbody tr th {\n",
       "        vertical-align: top;\n",
       "    }\n",
       "\n",
       "    .dataframe thead th {\n",
       "        text-align: right;\n",
       "    }\n",
       "</style>\n",
       "<table border=\"1\" class=\"dataframe\">\n",
       "  <thead>\n",
       "    <tr style=\"text-align: right;\">\n",
       "      <th></th>\n",
       "      <th>IDX</th>\n",
       "      <th>PT</th>\n",
       "      <th>LLT</th>\n",
       "    </tr>\n",
       "  </thead>\n",
       "  <tbody>\n",
       "    <tr>\n",
       "      <td>0</td>\n",
       "      <td>0</td>\n",
       "      <td>11-beta-hydroxylase deficiency</td>\n",
       "      <td>11-beta-hydroxylase deficiency</td>\n",
       "    </tr>\n",
       "    <tr>\n",
       "      <td>1</td>\n",
       "      <td>1</td>\n",
       "      <td>17 ketosteroids urine</td>\n",
       "      <td>17 ketosteroids urine</td>\n",
       "    </tr>\n",
       "    <tr>\n",
       "      <td>2</td>\n",
       "      <td>2</td>\n",
       "      <td>17 ketosteroids urine decreased</td>\n",
       "      <td>17 ketosteroids urine decreased</td>\n",
       "    </tr>\n",
       "    <tr>\n",
       "      <td>3</td>\n",
       "      <td>3</td>\n",
       "      <td>17 ketosteroids urine decreased</td>\n",
       "      <td>17 ketosteroids urine low</td>\n",
       "    </tr>\n",
       "    <tr>\n",
       "      <td>4</td>\n",
       "      <td>4</td>\n",
       "      <td>17 ketosteroids urine increased</td>\n",
       "      <td>17 ketosteroids urine high</td>\n",
       "    </tr>\n",
       "  </tbody>\n",
       "</table>\n",
       "</div>"
      ],
      "text/plain": [
       "   IDX                               PT                              LLT\n",
       "0    0   11-beta-hydroxylase deficiency   11-beta-hydroxylase deficiency\n",
       "1    1            17 ketosteroids urine            17 ketosteroids urine\n",
       "2    2  17 ketosteroids urine decreased  17 ketosteroids urine decreased\n",
       "3    3  17 ketosteroids urine decreased        17 ketosteroids urine low\n",
       "4    4  17 ketosteroids urine increased       17 ketosteroids urine high"
      ]
     },
     "execution_count": 102,
     "metadata": {},
     "output_type": "execute_result"
    }
   ],
   "source": [
    "print(pt_llt_df.shape)\n",
    "pt_llt_df.head()"
   ]
  },
  {
   "cell_type": "code",
   "execution_count": 103,
   "metadata": {
    "hidden": true
   },
   "outputs": [
    {
     "name": "stdout",
     "output_type": "stream",
     "text": [
      "(23954, 3)\n"
     ]
    },
    {
     "data": {
      "text/html": [
       "<div>\n",
       "<style scoped>\n",
       "    .dataframe tbody tr th:only-of-type {\n",
       "        vertical-align: middle;\n",
       "    }\n",
       "\n",
       "    .dataframe tbody tr th {\n",
       "        vertical-align: top;\n",
       "    }\n",
       "\n",
       "    .dataframe thead th {\n",
       "        text-align: right;\n",
       "    }\n",
       "</style>\n",
       "<table border=\"1\" class=\"dataframe\">\n",
       "  <thead>\n",
       "    <tr style=\"text-align: right;\">\n",
       "      <th></th>\n",
       "      <th>IDX</th>\n",
       "      <th>PT</th>\n",
       "      <th>SOC</th>\n",
       "    </tr>\n",
       "  </thead>\n",
       "  <tbody>\n",
       "    <tr>\n",
       "      <td>0</td>\n",
       "      <td>0</td>\n",
       "      <td>11-beta-hydroxylase deficiency</td>\n",
       "      <td>congenital, familial and genetic disorders</td>\n",
       "    </tr>\n",
       "    <tr>\n",
       "      <td>1</td>\n",
       "      <td>1</td>\n",
       "      <td>17,20-desmolase deficiency</td>\n",
       "      <td>congenital, familial and genetic disorders</td>\n",
       "    </tr>\n",
       "    <tr>\n",
       "      <td>2</td>\n",
       "      <td>2</td>\n",
       "      <td>17-alpha-hydroxylase deficiency</td>\n",
       "      <td>congenital, familial and genetic disorders</td>\n",
       "    </tr>\n",
       "    <tr>\n",
       "      <td>3</td>\n",
       "      <td>3</td>\n",
       "      <td>20,22-desmolase deficiency</td>\n",
       "      <td>congenital, familial and genetic disorders</td>\n",
       "    </tr>\n",
       "    <tr>\n",
       "      <td>4</td>\n",
       "      <td>4</td>\n",
       "      <td>21-hydroxylase deficiency</td>\n",
       "      <td>congenital, familial and genetic disorders</td>\n",
       "    </tr>\n",
       "  </tbody>\n",
       "</table>\n",
       "</div>"
      ],
      "text/plain": [
       "   IDX                               PT  \\\n",
       "0    0   11-beta-hydroxylase deficiency   \n",
       "1    1       17,20-desmolase deficiency   \n",
       "2    2  17-alpha-hydroxylase deficiency   \n",
       "3    3       20,22-desmolase deficiency   \n",
       "4    4        21-hydroxylase deficiency   \n",
       "\n",
       "                                          SOC  \n",
       "0  congenital, familial and genetic disorders  \n",
       "1  congenital, familial and genetic disorders  \n",
       "2  congenital, familial and genetic disorders  \n",
       "3  congenital, familial and genetic disorders  \n",
       "4  congenital, familial and genetic disorders  "
      ]
     },
     "execution_count": 103,
     "metadata": {},
     "output_type": "execute_result"
    }
   ],
   "source": [
    "print(pt_soc_df.shape)\n",
    "pt_soc_df.head()"
   ]
  },
  {
   "cell_type": "code",
   "execution_count": 108,
   "metadata": {
    "hidden": true
   },
   "outputs": [
    {
     "name": "stdout",
     "output_type": "stream",
     "text": [
      "(81407, 2)\n",
      "19742\n"
     ]
    },
    {
     "data": {
      "text/html": [
       "<div>\n",
       "<style scoped>\n",
       "    .dataframe tbody tr th:only-of-type {\n",
       "        vertical-align: middle;\n",
       "    }\n",
       "\n",
       "    .dataframe tbody tr th {\n",
       "        vertical-align: top;\n",
       "    }\n",
       "\n",
       "    .dataframe thead th {\n",
       "        text-align: right;\n",
       "    }\n",
       "</style>\n",
       "<table border=\"1\" class=\"dataframe\">\n",
       "  <thead>\n",
       "    <tr style=\"text-align: right;\">\n",
       "      <th></th>\n",
       "      <th>MDR</th>\n",
       "      <th>ICD</th>\n",
       "    </tr>\n",
       "  </thead>\n",
       "  <tbody>\n",
       "    <tr>\n",
       "      <td>0</td>\n",
       "      <td>abdominal pain</td>\n",
       "      <td>abdominal pain</td>\n",
       "    </tr>\n",
       "    <tr>\n",
       "      <td>1</td>\n",
       "      <td>abdominal pain</td>\n",
       "      <td>abdominal pain, unspecified site</td>\n",
       "    </tr>\n",
       "    <tr>\n",
       "      <td>2</td>\n",
       "      <td>abdominal pain</td>\n",
       "      <td>abdmnal pain unspcf site</td>\n",
       "    </tr>\n",
       "    <tr>\n",
       "      <td>3</td>\n",
       "      <td>congenital anomaly</td>\n",
       "      <td>congenital anomalies</td>\n",
       "    </tr>\n",
       "    <tr>\n",
       "      <td>4</td>\n",
       "      <td>congenital anomaly</td>\n",
       "      <td>congenital anomaly nos</td>\n",
       "    </tr>\n",
       "  </tbody>\n",
       "</table>\n",
       "</div>"
      ],
      "text/plain": [
       "                  MDR                               ICD\n",
       "0      abdominal pain                    abdominal pain\n",
       "1      abdominal pain  abdominal pain, unspecified site\n",
       "2      abdominal pain          abdmnal pain unspcf site\n",
       "3  congenital anomaly              congenital anomalies\n",
       "4  congenital anomaly            congenital anomaly nos"
      ]
     },
     "execution_count": 108,
     "metadata": {},
     "output_type": "execute_result"
    }
   ],
   "source": [
    "umls_ohdsi_mapping = pd.concat([umls_mapping, ohdsi_mapping]).drop_duplicates()\n",
    "print(umls_ohdsi_mapping.shape)\n",
    "print(\"UMLS + OHDSI combined: \", len(set(umls_ohdsi_mapping[\"MDR\"].drop_duplicates().tolist())))\n",
    "umls_ohdsi_mapping.head()"
   ]
  },
  {
   "cell_type": "code",
   "execution_count": 110,
   "metadata": {
    "hidden": true
   },
   "outputs": [
    {
     "name": "stdout",
     "output_type": "stream",
     "text": [
      "(47301, 2) (81407, 2)\n",
      "Total PT filtered:  5697\n",
      "Total LLT filtered:  19742\n"
     ]
    },
    {
     "data": {
      "text/html": [
       "<div>\n",
       "<style scoped>\n",
       "    .dataframe tbody tr th:only-of-type {\n",
       "        vertical-align: middle;\n",
       "    }\n",
       "\n",
       "    .dataframe tbody tr th {\n",
       "        vertical-align: top;\n",
       "    }\n",
       "\n",
       "    .dataframe thead th {\n",
       "        text-align: right;\n",
       "    }\n",
       "</style>\n",
       "<table border=\"1\" class=\"dataframe\">\n",
       "  <thead>\n",
       "    <tr style=\"text-align: right;\">\n",
       "      <th></th>\n",
       "      <th>MDR</th>\n",
       "      <th>ICD</th>\n",
       "    </tr>\n",
       "  </thead>\n",
       "  <tbody>\n",
       "    <tr>\n",
       "      <td>0</td>\n",
       "      <td>abdominal pain</td>\n",
       "      <td>abdominal pain</td>\n",
       "    </tr>\n",
       "    <tr>\n",
       "      <td>1</td>\n",
       "      <td>abdominal pain</td>\n",
       "      <td>abdominal pain, unspecified site</td>\n",
       "    </tr>\n",
       "    <tr>\n",
       "      <td>2</td>\n",
       "      <td>abdominal pain</td>\n",
       "      <td>abdmnal pain unspcf site</td>\n",
       "    </tr>\n",
       "    <tr>\n",
       "      <td>3</td>\n",
       "      <td>abdominal pain</td>\n",
       "      <td>unspecified abdominal pain</td>\n",
       "    </tr>\n",
       "    <tr>\n",
       "      <td>4</td>\n",
       "      <td>abdominal pain</td>\n",
       "      <td>abdominal pain, other specified site</td>\n",
       "    </tr>\n",
       "  </tbody>\n",
       "</table>\n",
       "</div>"
      ],
      "text/plain": [
       "              MDR                                   ICD\n",
       "0  abdominal pain                        abdominal pain\n",
       "1  abdominal pain      abdominal pain, unspecified site\n",
       "2  abdominal pain              abdmnal pain unspcf site\n",
       "3  abdominal pain            unspecified abdominal pain\n",
       "4  abdominal pain  abdominal pain, other specified site"
      ]
     },
     "execution_count": 110,
     "metadata": {},
     "output_type": "execute_result"
    }
   ],
   "source": [
    "pt_filtered = pd.merge(umls_ohdsi_mapping, pt_llt_df, left_on=\"MDR\", right_on=\"PT\", how = \"inner\")[[\"MDR\",\"ICD\"]].drop_duplicates()\n",
    "llt_filtered = pd.merge(umls_ohdsi_mapping,pt_llt_df, left_on=\"MDR\", right_on=\"LLT\",how = \"inner\")[[\"MDR\",\"ICD\"]].drop_duplicates()\n",
    "print(pt_filtered.shape, llt_filtered.shape)\n",
    "print(\"Total PT filtered: \", len(set(pt_filtered[\"MDR\"].drop_duplicates().tolist())))\n",
    "print(\"Total LLT filtered: \", len(set(llt_filtered[\"MDR\"].drop_duplicates().tolist())))\n",
    "llt_filtered.head()"
   ]
  },
  {
   "cell_type": "code",
   "execution_count": 111,
   "metadata": {
    "hidden": true
   },
   "outputs": [
    {
     "name": "stdout",
     "output_type": "stream",
     "text": [
      "(58951, 2)\n"
     ]
    },
    {
     "data": {
      "text/html": [
       "<div>\n",
       "<style scoped>\n",
       "    .dataframe tbody tr th:only-of-type {\n",
       "        vertical-align: middle;\n",
       "    }\n",
       "\n",
       "    .dataframe tbody tr th {\n",
       "        vertical-align: top;\n",
       "    }\n",
       "\n",
       "    .dataframe thead th {\n",
       "        text-align: right;\n",
       "    }\n",
       "</style>\n",
       "<table border=\"1\" class=\"dataframe\">\n",
       "  <thead>\n",
       "    <tr style=\"text-align: right;\">\n",
       "      <th></th>\n",
       "      <th>MDR</th>\n",
       "      <th>ICD</th>\n",
       "    </tr>\n",
       "  </thead>\n",
       "  <tbody>\n",
       "    <tr>\n",
       "      <td>0</td>\n",
       "      <td>abdominal pain</td>\n",
       "      <td>abdominal pain</td>\n",
       "    </tr>\n",
       "    <tr>\n",
       "      <td>32</td>\n",
       "      <td>abdominal pain</td>\n",
       "      <td>abdominal pain, unspecified site</td>\n",
       "    </tr>\n",
       "    <tr>\n",
       "      <td>64</td>\n",
       "      <td>abdominal pain</td>\n",
       "      <td>abdmnal pain unspcf site</td>\n",
       "    </tr>\n",
       "    <tr>\n",
       "      <td>96</td>\n",
       "      <td>abdominal pain</td>\n",
       "      <td>unspecified abdominal pain</td>\n",
       "    </tr>\n",
       "    <tr>\n",
       "      <td>128</td>\n",
       "      <td>abdominal pain</td>\n",
       "      <td>abdominal pain, other specified site</td>\n",
       "    </tr>\n",
       "  </tbody>\n",
       "</table>\n",
       "</div>"
      ],
      "text/plain": [
       "                MDR                                   ICD\n",
       "0    abdominal pain                        abdominal pain\n",
       "32   abdominal pain      abdominal pain, unspecified site\n",
       "64   abdominal pain              abdmnal pain unspcf site\n",
       "96   abdominal pain            unspecified abdominal pain\n",
       "128  abdominal pain  abdominal pain, other specified site"
      ]
     },
     "execution_count": 111,
     "metadata": {},
     "output_type": "execute_result"
    }
   ],
   "source": [
    "llt_to_pt_filtered = pd.merge(llt_filtered, pt_llt_df, left_on=\"MDR\", right_on=\"LLT\")[[\"PT\",\"ICD\"]]\n",
    "llt_to_pt_filtered.columns = [\"MDR\",\"ICD\"]\n",
    "result = pd.concat([pt_filtered,llt_to_pt_filtered]).drop_duplicates()\n",
    "print(result.shape)\n",
    "result.head()"
   ]
  },
  {
   "cell_type": "code",
   "execution_count": 112,
   "metadata": {
    "hidden": true
   },
   "outputs": [
    {
     "name": "stdout",
     "output_type": "stream",
     "text": [
      "Mapped ICD:  49745\n",
      "Mapped MDR:  6359\n",
      "Terms in MDR:  23954\n",
      "MDR Matched Percentage:  0.2654671453619437\n"
     ]
    }
   ],
   "source": [
    "len_match_icd = len(set(result[\"ICD\"].tolist()))\n",
    "len_match_mdr = len(set(result[\"MDR\"].tolist()))\n",
    "len_mdr = len(set(pt_df[\"PT\"].drop_duplicates().tolist()))\n",
    "\n",
    "print(\"Mapped ICD: \", len_match_icd)\n",
    "print(\"Mapped MDR: \", len_match_mdr)\n",
    "print(\"Terms in MDR: \", len_mdr)\n",
    "print(\"MDR Matched Percentage: \", float(len_match_mdr)/len_mdr)"
   ]
  },
  {
   "cell_type": "markdown",
   "metadata": {},
   "source": [
    "## UMLS over the years"
   ]
  },
  {
   "cell_type": "code",
   "execution_count": 139,
   "metadata": {},
   "outputs": [
    {
     "name": "stdout",
     "output_type": "stream",
     "text": [
      "\n",
      "---2009---\n",
      "(5635063, 5)\n",
      "Mapped ICD:  4395\n",
      "Mapped MDR:  2701\n",
      "MDR PT in UMLS:  17976\n",
      "MDR Matched Percentage:  0.15025589675122386\n",
      "\n",
      "---2010---\n",
      "(5546494, 5)\n",
      "Mapped ICD:  7989\n",
      "Mapped MDR:  4215\n",
      "MDR PT in UMLS:  17833\n",
      "MDR Matched Percentage:  0.23635955812258172\n",
      "\n",
      "---2011---\n",
      "(6063442, 5)\n",
      "Mapped ICD:  8057\n",
      "Mapped MDR:  4221\n",
      "MDR PT in UMLS:  17873\n",
      "MDR Matched Percentage:  0.2361662843395065\n",
      "\n",
      "---2012---\n",
      "(5996159, 5)\n",
      "Mapped ICD:  8126\n",
      "Mapped MDR:  4252\n",
      "MDR PT in UMLS:  17962\n",
      "MDR Matched Percentage:  0.23672196860037859\n",
      "\n",
      "---2013---\n",
      "(6087124, 5)\n",
      "Mapped ICD:  8117\n",
      "Mapped MDR:  4286\n",
      "MDR PT in UMLS:  18102\n",
      "MDR Matched Percentage:  0.2367694177438957\n",
      "\n",
      "---2014---\n",
      "(6063084, 5)\n",
      "Mapped ICD:  8151\n",
      "Mapped MDR:  4322\n",
      "MDR PT in UMLS:  18183\n",
      "MDR Matched Percentage:  0.23769454985425947\n",
      "\n",
      "---2015---\n",
      "(5315282, 5)\n",
      "Mapped ICD:  8114\n",
      "Mapped MDR:  4319\n",
      "MDR PT in UMLS:  17899\n",
      "MDR Matched Percentage:  0.24129839655846697\n",
      "\n",
      "---2016---\n",
      "(5305343, 5)\n",
      "Mapped ICD:  17590\n",
      "Mapped MDR:  5379\n",
      "MDR PT in UMLS:  18000\n",
      "MDR Matched Percentage:  0.29883333333333334\n",
      "\n",
      "---2017---\n",
      "(9175993, 5)\n",
      "Mapped ICD:  18083\n",
      "Mapped MDR:  5556\n",
      "MDR PT in UMLS:  22499\n",
      "MDR Matched Percentage:  0.24694430863593939\n",
      "\n",
      "---2018---\n",
      "(10311566, 5)\n",
      "Mapped ICD:  18190\n",
      "Mapped MDR:  5606\n",
      "MDR PT in UMLS:  23029\n",
      "MDR Matched Percentage:  0.24343219418993442\n",
      "\n",
      "---2019---\n",
      "(10802342, 5)\n",
      "Mapped ICD:  18280\n",
      "Mapped MDR:  5645\n",
      "MDR PT in UMLS:  23708\n",
      "MDR Matched Percentage:  0.23810528091783364\n"
     ]
    }
   ],
   "source": [
    "for year in range(2009, 2020):\n",
    "    umls_path = \"/Users/Fyxstkala/Desktop/GitHub/term_mapping/umls/\" + str(year) + \"AB\"\n",
    "    if year < 2017:\n",
    "        mrconso_file = \"/MRCONSO.RRF.aa\"\n",
    "    else:\n",
    "        mrconso_file = \"/MRCONSO.RRF\"\n",
    "    mrconso_path = umls_path + mrconso_file\n",
    "    print(\"\\n---\" + str(year) + \"---\")\n",
    "    combined_umls, mdr_pt_num = get_umls_mapping(mrconso_path, pt_df)\n",
    "    \n",
    "    # Filter using official MedDRA data\n",
    "    pt_filtered = pd.merge(combined_umls, pt_llt_df, left_on=\"MDR\", right_on=\"PT\", how = \"inner\")[[\"MDR\",\"ICD\"]].drop_duplicates()\n",
    "    llt_filtered = pd.merge(combined_umls,pt_llt_df, left_on=\"MDR\", right_on=\"LLT\",how = \"inner\")[[\"MDR\",\"ICD\"]].drop_duplicates()\n",
    "#     print(pt_filtered.shape, llt_filtered.shape)\n",
    "#     print(\"Total PT filtered: \", len(set(pt_filtered[\"MDR\"].drop_duplicates().tolist())))\n",
    "#     print(\"Total LLT filtered: \", len(set(llt_filtered[\"MDR\"].drop_duplicates().tolist())))\n",
    "\n",
    "    # converted LLT to PT\n",
    "    llt_to_pt_filtered = pd.merge(llt_filtered, pt_llt_df, left_on=\"MDR\", right_on=\"LLT\")[[\"PT\",\"ICD\"]]\n",
    "    llt_to_pt_filtered.columns = [\"MDR\",\"ICD\"]\n",
    "    result = pd.concat([pt_filtered,llt_to_pt_filtered]).drop_duplicates()\n",
    "    \n",
    "    len_match_icd = len(set(result[\"ICD\"].drop_duplicates().tolist()))\n",
    "    len_match_mdr = len(set(result[\"MDR\"].drop_duplicates().tolist()))\n",
    "#     len_mdr = len(set(combined_umls[\"MDR\"].drop_duplicates().tolist()))\n",
    "\n",
    "    print(\"Mapped ICD: \", len_match_icd)\n",
    "    print(\"Mapped MDR: \", len_match_mdr)\n",
    "    print(\"MDR PT in UMLS: \", mdr_pt_num)\n",
    "    print(\"MDR Matched Percentage: \", float(len_match_mdr)/mdr_pt_num)"
   ]
  },
  {
   "cell_type": "code",
   "execution_count": null,
   "metadata": {},
   "outputs": [],
   "source": []
  }
 ],
 "metadata": {
  "kernelspec": {
   "display_name": "Python 3",
   "language": "python",
   "name": "python3"
  },
  "language_info": {
   "codemirror_mode": {
    "name": "ipython",
    "version": 3
   },
   "file_extension": ".py",
   "mimetype": "text/x-python",
   "name": "python",
   "nbconvert_exporter": "python",
   "pygments_lexer": "ipython3",
   "version": "3.6.4"
  },
  "toc": {
   "base_numbering": 1,
   "nav_menu": {},
   "number_sections": true,
   "sideBar": true,
   "skip_h1_title": false,
   "title_cell": "Table of Contents",
   "title_sidebar": "Contents",
   "toc_cell": false,
   "toc_position": {
    "height": "calc(100% - 180px)",
    "left": "10px",
    "top": "150px",
    "width": "166px"
   },
   "toc_section_display": true,
   "toc_window_display": true
  }
 },
 "nbformat": 4,
 "nbformat_minor": 2
}
